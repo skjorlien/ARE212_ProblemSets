{
 "cells": [
  {
   "cell_type": "code",
   "execution_count": 206,
   "id": "4f2c9889",
   "metadata": {},
   "outputs": [],
   "source": [
    "from scipy.stats import distributions as iid\n",
    "import scipy.stats\n",
    "import numpy as np\n",
    "from matplotlib import pyplot as plt\n"
   ]
  },
  {
   "cell_type": "code",
   "execution_count": 207,
   "id": "4e8a85f5",
   "metadata": {
    "scrolled": true
   },
   "outputs": [],
   "source": [
    "# create dgp \n",
    "def dgp(N, beta, pi):\n",
    "    \n",
    "    # get appropriate dimensions\n",
    "    l = pi.shape[0]\n",
    "    \n",
    "    # generate disturbance terms and random Z\n",
    "    u = iid.norm().rvs(size = (N,1))\n",
    "    v = iid.norm().rvs(size = (N,1))\n",
    "    Z = scipy.stats.multivariate_normal(np.zeros(l), np.eye(l)).rvs(size=N)\n",
    "    if len(Z.shape) == 1:\n",
    "        Z = Z.reshape(-1,1)\n",
    "    \n",
    "    X = Z@pi.reshape(-1,1) + v\n",
    "    y = X*beta + u\n",
    "    \n",
    "    return y,X,Z\n",
    "\n",
    "y,X,Z = dgp(10, 1, np.array([2]))"
   ]
  },
  {
   "cell_type": "code",
   "execution_count": 208,
   "id": "cca04d11",
   "metadata": {},
   "outputs": [
    {
     "name": "stdout",
     "output_type": "stream",
     "text": [
      "[[1.01403559]]\n"
     ]
    }
   ],
   "source": [
    "class tsls:\n",
    "    def __init__(self, y,X,Z):\n",
    "        self.y = y\n",
    "        self.X = X\n",
    "        self.Z = Z\n",
    "    \n",
    "    def beta_hat(self):\n",
    "        xhat = self.Z@np.linalg.inv(self.Z.T@self.Z)@self.Z.T@self.X\n",
    "        beta_tsls = np.linalg.solve(xhat.T@xhat, xhat.T@self.y)\n",
    "        self.beta_tsls = beta_tsls\n",
    "        \n",
    "        return beta_tsls\n",
    "    \n",
    "    # get the standard errors and t stats \n",
    "    def se(self):\n",
    "        e = self.y - self.beta_tsls*self.X\n",
    "        vb = e.var()*np.linalg.inv(self.X.T@self.X) \n",
    "        se = np.sqrt(vb)\n",
    "        self.se = se\n",
    "        return se\n",
    "    \n",
    "    def tval(self):\n",
    "        tstat = (self.beta_tsls)/self.se\n",
    "        return tstat\n",
    "        \n",
    "    def ci(self, CI): # not quite working ... fml maybe should just use built in package I think you can.\n",
    "        df = self.X.shape[0]-self.X.shape[1]\n",
    "        ci = scipy.stats.t.interval(CI,df = df, loc=self.beta_hat, scale = self.se) \n",
    "        return ci\n",
    "\n",
    "\n",
    "# test tsls\n",
    "beta = 1\n",
    "pi = np.array([1])\n",
    "\n",
    "y,X,Z = dgp(100, beta, pi)\n",
    "test = tsls(y,X,Z)\n",
    "print(test.beta_hat())\n"
   ]
  },
  {
   "cell_type": "code",
   "execution_count": 209,
   "id": "a1ee714f",
   "metadata": {},
   "outputs": [],
   "source": [
    "def monteCarlo(N, beta, pi):\n",
    "    y, X, Z = dgp(N, beta, pi)\n",
    "    return tsls(y, X, Z).beta_hat()"
   ]
  },
  {
   "cell_type": "code",
   "execution_count": 210,
   "id": "034d052c",
   "metadata": {},
   "outputs": [
    {
     "data": {
      "text/plain": [
       "<matplotlib.lines.Line2D at 0x7f874370f8b0>"
      ]
     },
     "execution_count": 210,
     "metadata": {},
     "output_type": "execute_result"
    },
    {
     "data": {
      "image/png": "[encoded data removed]",
      "text/plain": [
       "<Figure size 640x480 with 1 Axes>"
      ]
     },
     "metadata": {},
     "output_type": "display_data"
    }
   ],
   "source": [
    "beta = 1\n",
    "pi = np.array([1])\n",
    "N = 10000\n",
    "\n",
    "fig, ax = plt.subplots(1, 1) # initialize 3 subplots\n",
    "\n",
    "# perform monte-carlo\n",
    "beta_hats = [monteCarlo(N, beta, pi).item() for i in range(1000)]\n",
    "    \n",
    "# 95% of monte carlo\n",
    "montecarlo_5th = np.percentile(beta_hats, 5)\n",
    "montecarlo_95th = np.percentile(beta_hats, 95)\n",
    "\n",
    "# plot\n",
    "ax.hist(beta_hats)\n",
    "ax.set_title(f\"Montecarlo simulations, N = {N}\")\n",
    "ax.axvline(x=beta, color='r', label='True beta')\n",
    "ax.axvline(x = montecarlo_5th, color = 'b')\n",
    "ax.axvline(x = montecarlo_95th, color = 'b')\n"
   ]
  },
  {
   "cell_type": "code",
   "execution_count": 211,
   "id": "0fe35a25",
   "metadata": {},
   "outputs": [
    {
     "name": "stdout",
     "output_type": "stream",
     "text": [
      "0.9839493585925985\n",
      "1.0154569072378103\n"
     ]
    },
    {
     "ename": "TypeError",
     "evalue": "'>' not supported between instances of 'method' and 'int'",
     "output_type": "error",
     "traceback": [
      "\u001b[0;31m---------------------------------------------------------------------------\u001b[0m",
      "\u001b[0;31mTypeError\u001b[0m                                 Traceback (most recent call last)",
      "Cell \u001b[0;32mIn[211], line 7\u001b[0m\n\u001b[1;32m      5\u001b[0m y, X, Z \u001b[38;5;241m=\u001b[39m dgp(N, beta, pi)\n\u001b[1;32m      6\u001b[0m tsls_reg \u001b[38;5;241m=\u001b[39m tsls(y,X,Z)\n\u001b[0;32m----> 7\u001b[0m \u001b[38;5;28mprint\u001b[39m(\u001b[43mtsls_reg\u001b[49m\u001b[38;5;241;43m.\u001b[39;49m\u001b[43mci\u001b[49m\u001b[43m(\u001b[49m\u001b[38;5;241;43m.95\u001b[39;49m\u001b[43m)\u001b[49m)\n",
      "Cell \u001b[0;32mIn[208], line 28\u001b[0m, in \u001b[0;36mtsls.ci\u001b[0;34m(self, CI)\u001b[0m\n\u001b[1;32m     26\u001b[0m \u001b[38;5;28;01mdef\u001b[39;00m \u001b[38;5;21mci\u001b[39m(\u001b[38;5;28mself\u001b[39m, CI): \u001b[38;5;66;03m# not quite working ... fml maybe should just use built in package I think you can.\u001b[39;00m\n\u001b[1;32m     27\u001b[0m     df \u001b[38;5;241m=\u001b[39m \u001b[38;5;28mself\u001b[39m\u001b[38;5;241m.\u001b[39mX\u001b[38;5;241m.\u001b[39mshape[\u001b[38;5;241m0\u001b[39m]\u001b[38;5;241m-\u001b[39m\u001b[38;5;28mself\u001b[39m\u001b[38;5;241m.\u001b[39mX\u001b[38;5;241m.\u001b[39mshape[\u001b[38;5;241m1\u001b[39m]\n\u001b[0;32m---> 28\u001b[0m     ci \u001b[38;5;241m=\u001b[39m \u001b[43mscipy\u001b[49m\u001b[38;5;241;43m.\u001b[39;49m\u001b[43mstats\u001b[49m\u001b[38;5;241;43m.\u001b[39;49m\u001b[43mt\u001b[49m\u001b[38;5;241;43m.\u001b[39;49m\u001b[43minterval\u001b[49m\u001b[43m(\u001b[49m\u001b[43mCI\u001b[49m\u001b[43m,\u001b[49m\u001b[43mdf\u001b[49m\u001b[43m \u001b[49m\u001b[38;5;241;43m=\u001b[39;49m\u001b[43m \u001b[49m\u001b[43mdf\u001b[49m\u001b[43m,\u001b[49m\u001b[43m \u001b[49m\u001b[43mloc\u001b[49m\u001b[38;5;241;43m=\u001b[39;49m\u001b[38;5;28;43mself\u001b[39;49m\u001b[38;5;241;43m.\u001b[39;49m\u001b[43mbeta_hat\u001b[49m\u001b[43m,\u001b[49m\u001b[43m \u001b[49m\u001b[43mscale\u001b[49m\u001b[43m \u001b[49m\u001b[38;5;241;43m=\u001b[39;49m\u001b[43m \u001b[49m\u001b[38;5;28;43mself\u001b[39;49m\u001b[38;5;241;43m.\u001b[39;49m\u001b[43mse\u001b[49m\u001b[43m)\u001b[49m \n\u001b[1;32m     29\u001b[0m     \u001b[38;5;28;01mreturn\u001b[39;00m ci\n",
      "File \u001b[0;32m~/opt/anaconda3/envs/are212/lib/python3.9/site-packages/scipy/stats/_distn_infrastructure.py:1556\u001b[0m, in \u001b[0;36mrv_generic.interval\u001b[0;34m(self, confidence, *args, **kwds)\u001b[0m\n\u001b[1;32m   1554\u001b[0m q1 \u001b[38;5;241m=\u001b[39m (\u001b[38;5;241m1.0\u001b[39m\u001b[38;5;241m-\u001b[39malpha)\u001b[38;5;241m/\u001b[39m\u001b[38;5;241m2\u001b[39m\n\u001b[1;32m   1555\u001b[0m q2 \u001b[38;5;241m=\u001b[39m (\u001b[38;5;241m1.0\u001b[39m\u001b[38;5;241m+\u001b[39malpha)\u001b[38;5;241m/\u001b[39m\u001b[38;5;241m2\u001b[39m\n\u001b[0;32m-> 1556\u001b[0m a \u001b[38;5;241m=\u001b[39m \u001b[38;5;28;43mself\u001b[39;49m\u001b[38;5;241;43m.\u001b[39;49m\u001b[43mppf\u001b[49m\u001b[43m(\u001b[49m\u001b[43mq1\u001b[49m\u001b[43m,\u001b[49m\u001b[43m \u001b[49m\u001b[38;5;241;43m*\u001b[39;49m\u001b[43margs\u001b[49m\u001b[43m,\u001b[49m\u001b[43m \u001b[49m\u001b[38;5;241;43m*\u001b[39;49m\u001b[38;5;241;43m*\u001b[39;49m\u001b[43mkwds\u001b[49m\u001b[43m)\u001b[49m\n\u001b[1;32m   1557\u001b[0m b \u001b[38;5;241m=\u001b[39m \u001b[38;5;28mself\u001b[39m\u001b[38;5;241m.\u001b[39mppf(q2, \u001b[38;5;241m*\u001b[39margs, \u001b[38;5;241m*\u001b[39m\u001b[38;5;241m*\u001b[39mkwds)\n\u001b[1;32m   1558\u001b[0m \u001b[38;5;28;01mreturn\u001b[39;00m a, b\n",
      "File \u001b[0;32m~/opt/anaconda3/envs/are212/lib/python3.9/site-packages/scipy/stats/_distn_infrastructure.py:2344\u001b[0m, in \u001b[0;36mrv_continuous.ppf\u001b[0;34m(self, q, *args, **kwds)\u001b[0m\n\u001b[1;32m   2342\u001b[0m args \u001b[38;5;241m=\u001b[39m \u001b[38;5;28mtuple\u001b[39m(\u001b[38;5;28mmap\u001b[39m(asarray, args))\n\u001b[1;32m   2343\u001b[0m _a, _b \u001b[38;5;241m=\u001b[39m \u001b[38;5;28mself\u001b[39m\u001b[38;5;241m.\u001b[39m_get_support(\u001b[38;5;241m*\u001b[39margs)\n\u001b[0;32m-> 2344\u001b[0m cond0 \u001b[38;5;241m=\u001b[39m \u001b[38;5;28mself\u001b[39m\u001b[38;5;241m.\u001b[39m_argcheck(\u001b[38;5;241m*\u001b[39margs) \u001b[38;5;241m&\u001b[39m (\u001b[43mscale\u001b[49m\u001b[43m \u001b[49m\u001b[38;5;241;43m>\u001b[39;49m\u001b[43m \u001b[49m\u001b[38;5;241;43m0\u001b[39;49m) \u001b[38;5;241m&\u001b[39m (loc \u001b[38;5;241m==\u001b[39m loc)\n\u001b[1;32m   2345\u001b[0m cond1 \u001b[38;5;241m=\u001b[39m (\u001b[38;5;241m0\u001b[39m \u001b[38;5;241m<\u001b[39m q) \u001b[38;5;241m&\u001b[39m (q \u001b[38;5;241m<\u001b[39m \u001b[38;5;241m1\u001b[39m)\n\u001b[1;32m   2346\u001b[0m cond2 \u001b[38;5;241m=\u001b[39m cond0 \u001b[38;5;241m&\u001b[39m (q \u001b[38;5;241m==\u001b[39m \u001b[38;5;241m0\u001b[39m)\n",
      "\u001b[0;31mTypeError\u001b[0m: '>' not supported between instances of 'method' and 'int'"
     ]
    }
   ],
   "source": [
    "## compare the confidence intervals\n",
    "print(montecarlo_5th)\n",
    "print(montecarlo_95th)\n",
    "\n",
    "y, X, Z = dgp(N, beta, pi)\n",
    "tsls_reg = tsls(y,X,Z)\n",
    "print(tsls_reg.ci(.95))"
   ]
  },
  {
   "cell_type": "code",
   "execution_count": null,
   "id": "a63d23d4",
   "metadata": {},
   "outputs": [],
   "source": [
    "## now allowing pi to vary \n",
    "counter = 0 # first axis starts at 0\n",
    "fig, ax = plt.subplots(1, 4, figsize=(15,7)) # initialize 3 subplots\n",
    "\n",
    "# set global parameters for DGP\n",
    "beta = 1\n",
    "N = 1000\n",
    "\n",
    "# start empty list to save to\n",
    "beta_hats = []\n",
    "\n",
    "for p in [0.001, 0.01, 0.1, 1]:\n",
    "    # calculate IV a bunch of times\n",
    "    beta_hats = np.array([monteCarlo(N, beta, np.array([p])).item() for i in range(1000)])\n",
    "    # some stats\n",
    "    beta5 = np.percentile(beta_hats, 5)\n",
    "    beta95 = np.percentile(beta_hats, 95)\n",
    "    # plot\n",
    "    ax[counter].hist(beta_hats)\n",
    "    ax[counter].set_title(f\"pi = {p}; beta 95ci [{beta5:.1}, {beta95:.1}]\")\n",
    "    ax[counter].axvline(x=1, color='r', label='True beta')\n",
    "\n",
    "    # advance counter\n",
    "    counter = counter + 1"
   ]
  },
  {
   "cell_type": "code",
   "execution_count": 205,
   "id": "b6e11c06",
   "metadata": {},
   "outputs": [
    {
     "ename": "error",
     "evalue": "(il>=1&&il<=n) failed for 6th keyword il: dsyevr:il=1",
     "output_type": "error",
     "traceback": [
      "\u001b[0;31m---------------------------------------------------------------------------\u001b[0m",
      "\u001b[0;31merror\u001b[0m                                     Traceback (most recent call last)",
      "Cell \u001b[0;32mIn[205], line 19\u001b[0m\n\u001b[1;32m     15\u001b[0m beta_hats \u001b[38;5;241m=\u001b[39m []\n\u001b[1;32m     17\u001b[0m \u001b[38;5;28;01mfor\u001b[39;00m i \u001b[38;5;129;01min\u001b[39;00m \u001b[38;5;28mrange\u001b[39m(\u001b[38;5;241m1\u001b[39m,\u001b[38;5;241m5\u001b[39m):\n\u001b[1;32m     18\u001b[0m     \u001b[38;5;66;03m# calculate IV a bunch of times\u001b[39;00m\n\u001b[0;32m---> 19\u001b[0m     beta_hats \u001b[38;5;241m=\u001b[39m np\u001b[38;5;241m.\u001b[39marray([monteCarlo(N, beta, pi[\u001b[38;5;241m0\u001b[39m:i])\u001b[38;5;241m.\u001b[39mitem() \u001b[38;5;28;01mfor\u001b[39;00m i \u001b[38;5;129;01min\u001b[39;00m \u001b[38;5;28mrange\u001b[39m(\u001b[38;5;241m1000\u001b[39m)])\n\u001b[1;32m     20\u001b[0m     \u001b[38;5;66;03m# some stats\u001b[39;00m\n\u001b[1;32m     21\u001b[0m     beta5 \u001b[38;5;241m=\u001b[39m np\u001b[38;5;241m.\u001b[39mpercentile(beta_hats, \u001b[38;5;241m5\u001b[39m)\n",
      "Cell \u001b[0;32mIn[205], line 19\u001b[0m, in \u001b[0;36m<listcomp>\u001b[0;34m(.0)\u001b[0m\n\u001b[1;32m     15\u001b[0m beta_hats \u001b[38;5;241m=\u001b[39m []\n\u001b[1;32m     17\u001b[0m \u001b[38;5;28;01mfor\u001b[39;00m i \u001b[38;5;129;01min\u001b[39;00m \u001b[38;5;28mrange\u001b[39m(\u001b[38;5;241m1\u001b[39m,\u001b[38;5;241m5\u001b[39m):\n\u001b[1;32m     18\u001b[0m     \u001b[38;5;66;03m# calculate IV a bunch of times\u001b[39;00m\n\u001b[0;32m---> 19\u001b[0m     beta_hats \u001b[38;5;241m=\u001b[39m np\u001b[38;5;241m.\u001b[39marray([\u001b[43mmonteCarlo\u001b[49m\u001b[43m(\u001b[49m\u001b[43mN\u001b[49m\u001b[43m,\u001b[49m\u001b[43m \u001b[49m\u001b[43mbeta\u001b[49m\u001b[43m,\u001b[49m\u001b[43m \u001b[49m\u001b[43mpi\u001b[49m\u001b[43m[\u001b[49m\u001b[38;5;241;43m0\u001b[39;49m\u001b[43m:\u001b[49m\u001b[43mi\u001b[49m\u001b[43m]\u001b[49m\u001b[43m)\u001b[49m\u001b[38;5;241m.\u001b[39mitem() \u001b[38;5;28;01mfor\u001b[39;00m i \u001b[38;5;129;01min\u001b[39;00m \u001b[38;5;28mrange\u001b[39m(\u001b[38;5;241m1000\u001b[39m)])\n\u001b[1;32m     20\u001b[0m     \u001b[38;5;66;03m# some stats\u001b[39;00m\n\u001b[1;32m     21\u001b[0m     beta5 \u001b[38;5;241m=\u001b[39m np\u001b[38;5;241m.\u001b[39mpercentile(beta_hats, \u001b[38;5;241m5\u001b[39m)\n",
      "Cell \u001b[0;32mIn[127], line 2\u001b[0m, in \u001b[0;36mmonteCarlo\u001b[0;34m(N, beta, pi)\u001b[0m\n\u001b[1;32m      1\u001b[0m \u001b[38;5;28;01mdef\u001b[39;00m \u001b[38;5;21mmonteCarlo\u001b[39m(N, beta, pi):\n\u001b[0;32m----> 2\u001b[0m     y, X, Z \u001b[38;5;241m=\u001b[39m \u001b[43mdgp\u001b[49m\u001b[43m(\u001b[49m\u001b[43mN\u001b[49m\u001b[43m,\u001b[49m\u001b[43m \u001b[49m\u001b[43mbeta\u001b[49m\u001b[43m,\u001b[49m\u001b[43m \u001b[49m\u001b[43mpi\u001b[49m\u001b[43m)\u001b[49m\n\u001b[1;32m      3\u001b[0m     \u001b[38;5;28;01mreturn\u001b[39;00m tsls(y, X, Z)\u001b[38;5;241m.\u001b[39mbeta_hat()\n",
      "Cell \u001b[0;32mIn[180], line 10\u001b[0m, in \u001b[0;36mdgp\u001b[0;34m(N, beta, pi)\u001b[0m\n\u001b[1;32m      8\u001b[0m u \u001b[38;5;241m=\u001b[39m iid\u001b[38;5;241m.\u001b[39mnorm()\u001b[38;5;241m.\u001b[39mrvs(size \u001b[38;5;241m=\u001b[39m (N,\u001b[38;5;241m1\u001b[39m))\n\u001b[1;32m      9\u001b[0m v \u001b[38;5;241m=\u001b[39m iid\u001b[38;5;241m.\u001b[39mnorm()\u001b[38;5;241m.\u001b[39mrvs(size \u001b[38;5;241m=\u001b[39m (N,\u001b[38;5;241m1\u001b[39m))\n\u001b[0;32m---> 10\u001b[0m Z \u001b[38;5;241m=\u001b[39m \u001b[43mscipy\u001b[49m\u001b[38;5;241;43m.\u001b[39;49m\u001b[43mstats\u001b[49m\u001b[38;5;241;43m.\u001b[39;49m\u001b[43mmultivariate_normal\u001b[49m\u001b[43m(\u001b[49m\u001b[43mnp\u001b[49m\u001b[38;5;241;43m.\u001b[39;49m\u001b[43mzeros\u001b[49m\u001b[43m(\u001b[49m\u001b[43ml\u001b[49m\u001b[43m)\u001b[49m\u001b[43m,\u001b[49m\u001b[43m \u001b[49m\u001b[43mnp\u001b[49m\u001b[38;5;241;43m.\u001b[39;49m\u001b[43meye\u001b[49m\u001b[43m(\u001b[49m\u001b[43ml\u001b[49m\u001b[43m)\u001b[49m\u001b[43m)\u001b[49m\u001b[38;5;241m.\u001b[39mrvs(size\u001b[38;5;241m=\u001b[39mN)\n\u001b[1;32m     11\u001b[0m \u001b[38;5;28;01mif\u001b[39;00m \u001b[38;5;28mlen\u001b[39m(Z\u001b[38;5;241m.\u001b[39mshape) \u001b[38;5;241m==\u001b[39m \u001b[38;5;241m1\u001b[39m:\n\u001b[1;32m     12\u001b[0m     Z \u001b[38;5;241m=\u001b[39m Z\u001b[38;5;241m.\u001b[39mreshape(\u001b[38;5;241m-\u001b[39m\u001b[38;5;241m1\u001b[39m,\u001b[38;5;241m1\u001b[39m)\n",
      "File \u001b[0;32m~/opt/anaconda3/envs/are212/lib/python3.9/site-packages/scipy/stats/_multivariate.py:393\u001b[0m, in \u001b[0;36mmultivariate_normal_gen.__call__\u001b[0;34m(self, mean, cov, allow_singular, seed)\u001b[0m\n\u001b[1;32m    388\u001b[0m \u001b[38;5;28;01mdef\u001b[39;00m \u001b[38;5;21m__call__\u001b[39m(\u001b[38;5;28mself\u001b[39m, mean\u001b[38;5;241m=\u001b[39m\u001b[38;5;28;01mNone\u001b[39;00m, cov\u001b[38;5;241m=\u001b[39m\u001b[38;5;241m1\u001b[39m, allow_singular\u001b[38;5;241m=\u001b[39m\u001b[38;5;28;01mFalse\u001b[39;00m, seed\u001b[38;5;241m=\u001b[39m\u001b[38;5;28;01mNone\u001b[39;00m):\n\u001b[1;32m    389\u001b[0m     \u001b[38;5;124;03m\"\"\"Create a frozen multivariate normal distribution.\u001b[39;00m\n\u001b[1;32m    390\u001b[0m \n\u001b[1;32m    391\u001b[0m \u001b[38;5;124;03m    See `multivariate_normal_frozen` for more information.\u001b[39;00m\n\u001b[1;32m    392\u001b[0m \u001b[38;5;124;03m    \"\"\"\u001b[39;00m\n\u001b[0;32m--> 393\u001b[0m     \u001b[38;5;28;01mreturn\u001b[39;00m \u001b[43mmultivariate_normal_frozen\u001b[49m\u001b[43m(\u001b[49m\u001b[43mmean\u001b[49m\u001b[43m,\u001b[49m\u001b[43m \u001b[49m\u001b[43mcov\u001b[49m\u001b[43m,\u001b[49m\n\u001b[1;32m    394\u001b[0m \u001b[43m                                      \u001b[49m\u001b[43mallow_singular\u001b[49m\u001b[38;5;241;43m=\u001b[39;49m\u001b[43mallow_singular\u001b[49m\u001b[43m,\u001b[49m\n\u001b[1;32m    395\u001b[0m \u001b[43m                                      \u001b[49m\u001b[43mseed\u001b[49m\u001b[38;5;241;43m=\u001b[39;49m\u001b[43mseed\u001b[49m\u001b[43m)\u001b[49m\n",
      "File \u001b[0;32m~/opt/anaconda3/envs/are212/lib/python3.9/site-packages/scipy/stats/_multivariate.py:834\u001b[0m, in \u001b[0;36mmultivariate_normal_frozen.__init__\u001b[0;34m(self, mean, cov, allow_singular, seed, maxpts, abseps, releps)\u001b[0m\n\u001b[1;32m    791\u001b[0m \u001b[38;5;124;03m\"\"\"Create a frozen multivariate normal distribution.\u001b[39;00m\n\u001b[1;32m    792\u001b[0m \n\u001b[1;32m    793\u001b[0m \u001b[38;5;124;03mParameters\u001b[39;00m\n\u001b[0;32m   (...)\u001b[0m\n\u001b[1;32m    830\u001b[0m \n\u001b[1;32m    831\u001b[0m \u001b[38;5;124;03m\"\"\"\u001b[39;00m\n\u001b[1;32m    832\u001b[0m \u001b[38;5;28mself\u001b[39m\u001b[38;5;241m.\u001b[39m_dist \u001b[38;5;241m=\u001b[39m multivariate_normal_gen(seed)\n\u001b[1;32m    833\u001b[0m \u001b[38;5;28mself\u001b[39m\u001b[38;5;241m.\u001b[39mdim, \u001b[38;5;28mself\u001b[39m\u001b[38;5;241m.\u001b[39mmean, \u001b[38;5;28mself\u001b[39m\u001b[38;5;241m.\u001b[39mcov_object \u001b[38;5;241m=\u001b[39m (\n\u001b[0;32m--> 834\u001b[0m     \u001b[38;5;28;43mself\u001b[39;49m\u001b[38;5;241;43m.\u001b[39;49m\u001b[43m_dist\u001b[49m\u001b[38;5;241;43m.\u001b[39;49m\u001b[43m_process_parameters\u001b[49m\u001b[43m(\u001b[49m\u001b[43mmean\u001b[49m\u001b[43m,\u001b[49m\u001b[43m \u001b[49m\u001b[43mcov\u001b[49m\u001b[43m,\u001b[49m\u001b[43m \u001b[49m\u001b[43mallow_singular\u001b[49m\u001b[43m)\u001b[49m)\n\u001b[1;32m    835\u001b[0m \u001b[38;5;28mself\u001b[39m\u001b[38;5;241m.\u001b[39mallow_singular \u001b[38;5;241m=\u001b[39m allow_singular \u001b[38;5;129;01mor\u001b[39;00m \u001b[38;5;28mself\u001b[39m\u001b[38;5;241m.\u001b[39mcov_object\u001b[38;5;241m.\u001b[39m_allow_singular\n\u001b[1;32m    836\u001b[0m \u001b[38;5;28;01mif\u001b[39;00m \u001b[38;5;129;01mnot\u001b[39;00m maxpts:\n",
      "File \u001b[0;32m~/opt/anaconda3/envs/are212/lib/python3.9/site-packages/scipy/stats/_multivariate.py:417\u001b[0m, in \u001b[0;36mmultivariate_normal_gen._process_parameters\u001b[0;34m(self, mean, cov, allow_singular)\u001b[0m\n\u001b[1;32m    410\u001b[0m dim, mean, cov \u001b[38;5;241m=\u001b[39m \u001b[38;5;28mself\u001b[39m\u001b[38;5;241m.\u001b[39m_process_parameters_psd(\u001b[38;5;28;01mNone\u001b[39;00m, mean, cov)\n\u001b[1;32m    411\u001b[0m \u001b[38;5;66;03m# After input validation, some methods then processed the arrays\u001b[39;00m\n\u001b[1;32m    412\u001b[0m \u001b[38;5;66;03m# with a `_PSD` object and used that to perform computation.\u001b[39;00m\n\u001b[1;32m    413\u001b[0m \u001b[38;5;66;03m# To avoid branching statements in each method depending on whether\u001b[39;00m\n\u001b[1;32m    414\u001b[0m \u001b[38;5;66;03m# `cov` is an array or `Covariance` object, we always process the\u001b[39;00m\n\u001b[1;32m    415\u001b[0m \u001b[38;5;66;03m# array with `_PSD`, and then use wrapper that satisfies the\u001b[39;00m\n\u001b[1;32m    416\u001b[0m \u001b[38;5;66;03m# `Covariance` interface, `CovViaPSD`.\u001b[39;00m\n\u001b[0;32m--> 417\u001b[0m psd \u001b[38;5;241m=\u001b[39m \u001b[43m_PSD\u001b[49m\u001b[43m(\u001b[49m\u001b[43mcov\u001b[49m\u001b[43m,\u001b[49m\u001b[43m \u001b[49m\u001b[43mallow_singular\u001b[49m\u001b[38;5;241;43m=\u001b[39;49m\u001b[43mallow_singular\u001b[49m\u001b[43m)\u001b[49m\n\u001b[1;32m    418\u001b[0m cov_object \u001b[38;5;241m=\u001b[39m _covariance\u001b[38;5;241m.\u001b[39mCovViaPSD(psd)\n\u001b[1;32m    419\u001b[0m \u001b[38;5;28;01mreturn\u001b[39;00m dim, mean, cov_object\n",
      "File \u001b[0;32m~/opt/anaconda3/envs/are212/lib/python3.9/site-packages/scipy/stats/_multivariate.py:162\u001b[0m, in \u001b[0;36m_PSD.__init__\u001b[0;34m(self, M, cond, rcond, lower, check_finite, allow_singular)\u001b[0m\n\u001b[1;32m    157\u001b[0m \u001b[38;5;28mself\u001b[39m\u001b[38;5;241m.\u001b[39m_M \u001b[38;5;241m=\u001b[39m np\u001b[38;5;241m.\u001b[39masarray(M)\n\u001b[1;32m    159\u001b[0m \u001b[38;5;66;03m# Compute the symmetric eigendecomposition.\u001b[39;00m\n\u001b[1;32m    160\u001b[0m \u001b[38;5;66;03m# Note that eigh takes care of array conversion, chkfinite,\u001b[39;00m\n\u001b[1;32m    161\u001b[0m \u001b[38;5;66;03m# and assertion that the matrix is square.\u001b[39;00m\n\u001b[0;32m--> 162\u001b[0m s, u \u001b[38;5;241m=\u001b[39m \u001b[43mscipy\u001b[49m\u001b[38;5;241;43m.\u001b[39;49m\u001b[43mlinalg\u001b[49m\u001b[38;5;241;43m.\u001b[39;49m\u001b[43meigh\u001b[49m\u001b[43m(\u001b[49m\u001b[43mM\u001b[49m\u001b[43m,\u001b[49m\u001b[43m \u001b[49m\u001b[43mlower\u001b[49m\u001b[38;5;241;43m=\u001b[39;49m\u001b[43mlower\u001b[49m\u001b[43m,\u001b[49m\u001b[43m \u001b[49m\u001b[43mcheck_finite\u001b[49m\u001b[38;5;241;43m=\u001b[39;49m\u001b[43mcheck_finite\u001b[49m\u001b[43m)\u001b[49m\n\u001b[1;32m    164\u001b[0m eps \u001b[38;5;241m=\u001b[39m _eigvalsh_to_eps(s, cond, rcond)\n\u001b[1;32m    165\u001b[0m \u001b[38;5;28;01mif\u001b[39;00m np\u001b[38;5;241m.\u001b[39mmin(s) \u001b[38;5;241m<\u001b[39m \u001b[38;5;241m-\u001b[39meps:\n",
      "File \u001b[0;32m~/opt/anaconda3/envs/are212/lib/python3.9/site-packages/scipy/linalg/_decomp.py:561\u001b[0m, in \u001b[0;36meigh\u001b[0;34m(a, b, lower, eigvals_only, overwrite_a, overwrite_b, turbo, eigvals, type, check_finite, subset_by_index, subset_by_value, driver)\u001b[0m\n\u001b[1;32m    558\u001b[0m         lwork_args \u001b[38;5;241m=\u001b[39m {\u001b[38;5;124m'\u001b[39m\u001b[38;5;124mlwork\u001b[39m\u001b[38;5;124m'\u001b[39m: lw}\n\u001b[1;32m    560\u001b[0m     drv_args\u001b[38;5;241m.\u001b[39mupdate({\u001b[38;5;124m'\u001b[39m\u001b[38;5;124mlower\u001b[39m\u001b[38;5;124m'\u001b[39m: lower, \u001b[38;5;124m'\u001b[39m\u001b[38;5;124mcompute_v\u001b[39m\u001b[38;5;124m'\u001b[39m: \u001b[38;5;241m0\u001b[39m \u001b[38;5;28;01mif\u001b[39;00m _job \u001b[38;5;241m==\u001b[39m \u001b[38;5;124m\"\u001b[39m\u001b[38;5;124mN\u001b[39m\u001b[38;5;124m\"\u001b[39m \u001b[38;5;28;01melse\u001b[39;00m \u001b[38;5;241m1\u001b[39m})\n\u001b[0;32m--> 561\u001b[0m     w, v, \u001b[38;5;241m*\u001b[39mother_args, info \u001b[38;5;241m=\u001b[39m \u001b[43mdrv\u001b[49m\u001b[43m(\u001b[49m\u001b[43ma\u001b[49m\u001b[38;5;241;43m=\u001b[39;49m\u001b[43ma1\u001b[49m\u001b[43m,\u001b[49m\u001b[43m \u001b[49m\u001b[38;5;241;43m*\u001b[39;49m\u001b[38;5;241;43m*\u001b[39;49m\u001b[43mdrv_args\u001b[49m\u001b[43m,\u001b[49m\u001b[43m \u001b[49m\u001b[38;5;241;43m*\u001b[39;49m\u001b[38;5;241;43m*\u001b[39;49m\u001b[43mlwork_args\u001b[49m\u001b[43m)\u001b[49m\n\u001b[1;32m    563\u001b[0m \u001b[38;5;28;01melse\u001b[39;00m:  \u001b[38;5;66;03m# Generalized problem\u001b[39;00m\n\u001b[1;32m    564\u001b[0m     \u001b[38;5;66;03m# 'gvd' doesn't have lwork query\u001b[39;00m\n\u001b[1;32m    565\u001b[0m     \u001b[38;5;28;01mif\u001b[39;00m driver \u001b[38;5;241m==\u001b[39m \u001b[38;5;124m\"\u001b[39m\u001b[38;5;124mgvd\u001b[39m\u001b[38;5;124m\"\u001b[39m:\n",
      "\u001b[0;31merror\u001b[0m: (il>=1&&il<=n) failed for 6th keyword il: dsyevr:il=1"
     ]
    },
    {
     "data": {
      "image/png": "[encoded data removed]",
      "text/plain": [
       "<Figure size 1500x700 with 4 Axes>"
      ]
     },
     "metadata": {},
     "output_type": "display_data"
    }
   ],
   "source": [
    "## increasing l\n",
    "counter = 0 # first axis starts at 0\n",
    "fig, ax = plt.subplots(1, 4, figsize=(15,7)) # initialize 3 subplots\n",
    "\n",
    "# set global parameters for DGP\n",
    "beta = 1\n",
    "N = 1000\n",
    "pi = [1]\n",
    "for i in range(10):\n",
    "    pi.append(pi[i]*.5)\n",
    "\n",
    "pi = np.array(pi)\n",
    "\n",
    "# start empty list to save to\n",
    "beta_hats = []\n",
    "\n",
    "for i in range(1,5):\n",
    "    # calculate IV a bunch of times\n",
    "    beta_hats = np.array([monteCarlo(N, beta, pi[0:i]).item() for i in range(1000)])\n",
    "    # some stats\n",
    "    beta5 = np.percentile(beta_hats, 5)\n",
    "    beta95 = np.percentile(beta_hats, 95)\n",
    "    # plot\n",
    "    ax[counter].hist(beta_hats)\n",
    "    ax[counter].set_title(f\"l = {i}; beta 95ci [{beta5:.1}, {beta95:.1}]\")\n",
    "    ax[counter].axvline(x=1, color='r', label='True beta')\n",
    "\n",
    "    # advance counter\n",
    "    counter = counter + 1"
   ]
  },
  {
   "cell_type": "code",
   "execution_count": 201,
   "id": "898bec87",
   "metadata": {},
   "outputs": [
    {
     "ename": "ValueError",
     "evalue": "setting an array element with a sequence. The requested array has an inhomogeneous shape after 1 dimensions. The detected shape was (2,) + inhomogeneous part.",
     "output_type": "error",
     "traceback": [
      "\u001b[0;31m---------------------------------------------------------------------------\u001b[0m",
      "\u001b[0;31mValueError\u001b[0m                                Traceback (most recent call last)",
      "Cell \u001b[0;32mIn[201], line 2\u001b[0m\n\u001b[1;32m      1\u001b[0m y,X,Z \u001b[38;5;241m=\u001b[39m dgp(N, beta, pi[\u001b[38;5;241m0\u001b[39m:\u001b[38;5;241m4\u001b[39m])\n\u001b[0;32m----> 2\u001b[0m \u001b[43mmonteCarlo\u001b[49m\u001b[43m(\u001b[49m\u001b[43my\u001b[49m\u001b[43m,\u001b[49m\u001b[43mX\u001b[49m\u001b[43m,\u001b[49m\u001b[43mZ\u001b[49m\u001b[43m)\u001b[49m\n",
      "Cell \u001b[0;32mIn[127], line 2\u001b[0m, in \u001b[0;36mmonteCarlo\u001b[0;34m(N, beta, pi)\u001b[0m\n\u001b[1;32m      1\u001b[0m \u001b[38;5;28;01mdef\u001b[39;00m \u001b[38;5;21mmonteCarlo\u001b[39m(N, beta, pi):\n\u001b[0;32m----> 2\u001b[0m     y, X, Z \u001b[38;5;241m=\u001b[39m \u001b[43mdgp\u001b[49m\u001b[43m(\u001b[49m\u001b[43mN\u001b[49m\u001b[43m,\u001b[49m\u001b[43m \u001b[49m\u001b[43mbeta\u001b[49m\u001b[43m,\u001b[49m\u001b[43m \u001b[49m\u001b[43mpi\u001b[49m\u001b[43m)\u001b[49m\n\u001b[1;32m      3\u001b[0m     \u001b[38;5;28;01mreturn\u001b[39;00m tsls(y, X, Z)\u001b[38;5;241m.\u001b[39mbeta_hat()\n",
      "Cell \u001b[0;32mIn[180], line 8\u001b[0m, in \u001b[0;36mdgp\u001b[0;34m(N, beta, pi)\u001b[0m\n\u001b[1;32m      5\u001b[0m l \u001b[38;5;241m=\u001b[39m pi\u001b[38;5;241m.\u001b[39mshape[\u001b[38;5;241m0\u001b[39m]\n\u001b[1;32m      7\u001b[0m \u001b[38;5;66;03m# generate disturbance terms and random Z\u001b[39;00m\n\u001b[0;32m----> 8\u001b[0m u \u001b[38;5;241m=\u001b[39m \u001b[43miid\u001b[49m\u001b[38;5;241;43m.\u001b[39;49m\u001b[43mnorm\u001b[49m\u001b[43m(\u001b[49m\u001b[43m)\u001b[49m\u001b[38;5;241;43m.\u001b[39;49m\u001b[43mrvs\u001b[49m\u001b[43m(\u001b[49m\u001b[43msize\u001b[49m\u001b[43m \u001b[49m\u001b[38;5;241;43m=\u001b[39;49m\u001b[43m \u001b[49m\u001b[43m(\u001b[49m\u001b[43mN\u001b[49m\u001b[43m,\u001b[49m\u001b[38;5;241;43m1\u001b[39;49m\u001b[43m)\u001b[49m\u001b[43m)\u001b[49m\n\u001b[1;32m      9\u001b[0m v \u001b[38;5;241m=\u001b[39m iid\u001b[38;5;241m.\u001b[39mnorm()\u001b[38;5;241m.\u001b[39mrvs(size \u001b[38;5;241m=\u001b[39m (N,\u001b[38;5;241m1\u001b[39m))\n\u001b[1;32m     10\u001b[0m Z \u001b[38;5;241m=\u001b[39m scipy\u001b[38;5;241m.\u001b[39mstats\u001b[38;5;241m.\u001b[39mmultivariate_normal(np\u001b[38;5;241m.\u001b[39mzeros(l), np\u001b[38;5;241m.\u001b[39meye(l))\u001b[38;5;241m.\u001b[39mrvs(size\u001b[38;5;241m=\u001b[39mN)\n",
      "File \u001b[0;32m~/opt/anaconda3/envs/are212/lib/python3.9/site-packages/scipy/stats/_distn_infrastructure.py:468\u001b[0m, in \u001b[0;36mrv_frozen.rvs\u001b[0;34m(self, size, random_state)\u001b[0m\n\u001b[1;32m    466\u001b[0m kwds \u001b[38;5;241m=\u001b[39m \u001b[38;5;28mself\u001b[39m\u001b[38;5;241m.\u001b[39mkwds\u001b[38;5;241m.\u001b[39mcopy()\n\u001b[1;32m    467\u001b[0m kwds\u001b[38;5;241m.\u001b[39mupdate({\u001b[38;5;124m'\u001b[39m\u001b[38;5;124msize\u001b[39m\u001b[38;5;124m'\u001b[39m: size, \u001b[38;5;124m'\u001b[39m\u001b[38;5;124mrandom_state\u001b[39m\u001b[38;5;124m'\u001b[39m: random_state})\n\u001b[0;32m--> 468\u001b[0m \u001b[38;5;28;01mreturn\u001b[39;00m \u001b[38;5;28;43mself\u001b[39;49m\u001b[38;5;241;43m.\u001b[39;49m\u001b[43mdist\u001b[49m\u001b[38;5;241;43m.\u001b[39;49m\u001b[43mrvs\u001b[49m\u001b[43m(\u001b[49m\u001b[38;5;241;43m*\u001b[39;49m\u001b[38;5;28;43mself\u001b[39;49m\u001b[38;5;241;43m.\u001b[39;49m\u001b[43margs\u001b[49m\u001b[43m,\u001b[49m\u001b[43m \u001b[49m\u001b[38;5;241;43m*\u001b[39;49m\u001b[38;5;241;43m*\u001b[39;49m\u001b[43mkwds\u001b[49m\u001b[43m)\u001b[49m\n",
      "File \u001b[0;32m~/opt/anaconda3/envs/are212/lib/python3.9/site-packages/scipy/stats/_distn_infrastructure.py:1028\u001b[0m, in \u001b[0;36mrv_generic.rvs\u001b[0;34m(self, *args, **kwds)\u001b[0m\n\u001b[1;32m   1026\u001b[0m discrete \u001b[38;5;241m=\u001b[39m kwds\u001b[38;5;241m.\u001b[39mpop(\u001b[38;5;124m'\u001b[39m\u001b[38;5;124mdiscrete\u001b[39m\u001b[38;5;124m'\u001b[39m, \u001b[38;5;28;01mNone\u001b[39;00m)\n\u001b[1;32m   1027\u001b[0m rndm \u001b[38;5;241m=\u001b[39m kwds\u001b[38;5;241m.\u001b[39mpop(\u001b[38;5;124m'\u001b[39m\u001b[38;5;124mrandom_state\u001b[39m\u001b[38;5;124m'\u001b[39m, \u001b[38;5;28;01mNone\u001b[39;00m)\n\u001b[0;32m-> 1028\u001b[0m args, loc, scale, size \u001b[38;5;241m=\u001b[39m \u001b[38;5;28;43mself\u001b[39;49m\u001b[38;5;241;43m.\u001b[39;49m\u001b[43m_parse_args_rvs\u001b[49m\u001b[43m(\u001b[49m\u001b[38;5;241;43m*\u001b[39;49m\u001b[43margs\u001b[49m\u001b[43m,\u001b[49m\u001b[43m \u001b[49m\u001b[38;5;241;43m*\u001b[39;49m\u001b[38;5;241;43m*\u001b[39;49m\u001b[43mkwds\u001b[49m\u001b[43m)\u001b[49m\n\u001b[1;32m   1029\u001b[0m cond \u001b[38;5;241m=\u001b[39m logical_and(\u001b[38;5;28mself\u001b[39m\u001b[38;5;241m.\u001b[39m_argcheck(\u001b[38;5;241m*\u001b[39margs), (scale \u001b[38;5;241m>\u001b[39m\u001b[38;5;241m=\u001b[39m \u001b[38;5;241m0\u001b[39m))\n\u001b[1;32m   1030\u001b[0m \u001b[38;5;28;01mif\u001b[39;00m \u001b[38;5;129;01mnot\u001b[39;00m np\u001b[38;5;241m.\u001b[39mall(cond):\n",
      "File \u001b[0;32m<string>:6\u001b[0m, in \u001b[0;36m_parse_args_rvs\u001b[0;34m(self, loc, scale, size)\u001b[0m\n",
      "File \u001b[0;32m~/opt/anaconda3/envs/are212/lib/python3.9/site-packages/scipy/stats/_distn_infrastructure.py:884\u001b[0m, in \u001b[0;36mrv_generic._argcheck_rvs\u001b[0;34m(self, *args, **kwargs)\u001b[0m\n\u001b[1;32m    882\u001b[0m     size_ \u001b[38;5;241m=\u001b[39m bcast_shape\n\u001b[1;32m    883\u001b[0m \u001b[38;5;28;01melse\u001b[39;00m:\n\u001b[0;32m--> 884\u001b[0m     size_ \u001b[38;5;241m=\u001b[39m \u001b[38;5;28mtuple\u001b[39m(\u001b[43mnp\u001b[49m\u001b[38;5;241;43m.\u001b[39;49m\u001b[43matleast_1d\u001b[49m\u001b[43m(\u001b[49m\u001b[43msize\u001b[49m\u001b[43m)\u001b[49m)\n\u001b[1;32m    886\u001b[0m \u001b[38;5;66;03m# Check compatibility of size_ with the broadcast shape of all\u001b[39;00m\n\u001b[1;32m    887\u001b[0m \u001b[38;5;66;03m# the parameters.  This check is intended to be consistent with\u001b[39;00m\n\u001b[1;32m    888\u001b[0m \u001b[38;5;66;03m# how the numpy random variate generators (e.g. np.random.normal,\u001b[39;00m\n\u001b[0;32m   (...)\u001b[0m\n\u001b[1;32m    894\u001b[0m \u001b[38;5;66;03m# shape with fewer dimensions with enough dimensions of length 1\u001b[39;00m\n\u001b[1;32m    895\u001b[0m \u001b[38;5;66;03m# so that the two shapes have the same number of dimensions.\u001b[39;00m\n\u001b[1;32m    896\u001b[0m ndiff \u001b[38;5;241m=\u001b[39m bcast_ndim \u001b[38;5;241m-\u001b[39m \u001b[38;5;28mlen\u001b[39m(size_)\n",
      "File \u001b[0;32m<__array_function__ internals>:200\u001b[0m, in \u001b[0;36matleast_1d\u001b[0;34m(*args, **kwargs)\u001b[0m\n",
      "File \u001b[0;32m~/opt/anaconda3/envs/are212/lib/python3.9/site-packages/numpy/core/shape_base.py:65\u001b[0m, in \u001b[0;36matleast_1d\u001b[0;34m(*arys)\u001b[0m\n\u001b[1;32m     63\u001b[0m res \u001b[38;5;241m=\u001b[39m []\n\u001b[1;32m     64\u001b[0m \u001b[38;5;28;01mfor\u001b[39;00m ary \u001b[38;5;129;01min\u001b[39;00m arys:\n\u001b[0;32m---> 65\u001b[0m     ary \u001b[38;5;241m=\u001b[39m \u001b[43masanyarray\u001b[49m\u001b[43m(\u001b[49m\u001b[43mary\u001b[49m\u001b[43m)\u001b[49m\n\u001b[1;32m     66\u001b[0m     \u001b[38;5;28;01mif\u001b[39;00m ary\u001b[38;5;241m.\u001b[39mndim \u001b[38;5;241m==\u001b[39m \u001b[38;5;241m0\u001b[39m:\n\u001b[1;32m     67\u001b[0m         result \u001b[38;5;241m=\u001b[39m ary\u001b[38;5;241m.\u001b[39mreshape(\u001b[38;5;241m1\u001b[39m)\n",
      "\u001b[0;31mValueError\u001b[0m: setting an array element with a sequence. The requested array has an inhomogeneous shape after 1 dimensions. The detected shape was (2,) + inhomogeneous part."
     ]
    }
   ],
   "source": [
    "y,X,Z = dgp(N, beta, pi[0:4])\n",
    "monteCarlo(y,X,Z) # it fucks up when generating u for some reason"
   ]
  }
 ],
 "metadata": {
  "kernelspec": {
   "display_name": "Python 3 (ipykernel)",
   "language": "python",
   "name": "python3"
  },
  "language_info": {
   "codemirror_mode": {
    "name": "ipython",
    "version": 3
   },
   "file_extension": ".py",
   "mimetype": "text/x-python",
   "name": "python",
   "nbconvert_exporter": "python",
   "pygments_lexer": "ipython3",
   "version": "3.9.16"
  }
 },
 "nbformat": 4,
 "nbformat_minor": 5
}
