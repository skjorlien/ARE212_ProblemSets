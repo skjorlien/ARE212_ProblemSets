{
 "cells": [
  {
   "cell_type": "code",
   "execution_count": 1,
   "metadata": {},
   "outputs": [],
   "source": [
    "import functions as utils\n",
    "from classes import Two_SLS\n",
    "import numpy as np \n",
    "import matplotlib.pyplot as plt\n",
    "from scipy.stats import t\n",
    "import pandas as pd\n",
    "import time"
   ]
  },
  {
   "cell_type": "markdown",
   "metadata": {},
   "source": [
    "### 4. Weak Instruments\n"
   ]
  },
  {
   "cell_type": "markdown",
   "metadata": {},
   "source": [
    "##### 4.2.b "
   ]
  },
  {
   "cell_type": "code",
   "execution_count": 2,
   "metadata": {},
   "outputs": [
    {
     "data": {
      "image/png": "[encoded data removed]",
      "text/plain": [
       "<Figure size 432x288 with 1 Axes>"
      ]
     },
     "metadata": {
      "needs_background": "light"
     },
     "output_type": "display_data"
    },
    {
     "name": "stdout",
     "output_type": "stream",
     "text": [
      "t-test: \n",
      " 54.8272418660458\n",
      "\n",
      "p-value of t-test:\n",
      " 0.0\n",
      "\n",
      "2SLS 95% CI: \n",
      " (0.9637234172075861, 1.035341596953573)\n",
      "\n",
      "Monte Carlo 95% CI: \n",
      " (0.9491929831230147, 1.0515315166361312)\n"
     ]
    }
   ],
   "source": [
    "n = 1000\n",
    "beta = 1 \n",
    "pi = 1\n",
    "\n",
    "monte_carlo_outputs = np.array([utils.do_two_sls(n, beta, pi) for i in range(1000)])\n",
    "b = monte_carlo_outputs[:,0]\n",
    "mean_hyp_vals = monte_carlo_outputs[:,1:].mean(0)\n",
    "\n",
    "monte_carlo_5 = np.percentile(b, 5)\n",
    "monte_carlo_95 = np.percentile(b, 95)\n",
    "fig, ax = plt.subplots(1, 1)\n",
    "ax.hist(b)\n",
    "ax.set_title(f\"Montecarlo simulations, N = {n}\")\n",
    "ax.axvline(x = monte_carlo_5, color = 'b')\n",
    "ax.axvline(x = monte_carlo_95, color = 'b')\n",
    "ax.set_title(f\"Montecarlo simulations, N = {n}\")\n",
    "plt.show()\n",
    "\n",
    "\n",
    "print(f\"t-test: \\n {mean_hyp_vals[0]}\\n\")\n",
    "print(f\"p-value of t-test:\\n {mean_hyp_vals[1]}\\n\")\n",
    "print(f\"2SLS 95% CI: \\n {(mean_hyp_vals[2],mean_hyp_vals[3])}\\n\")\n",
    "print(f\"Monte Carlo 95% CI: \\n {(monte_carlo_5, monte_carlo_95)}\")"
   ]
  },
  {
   "cell_type": "markdown",
   "metadata": {},
   "source": [
    "##### 4.2.c"
   ]
  },
  {
   "cell_type": "code",
   "execution_count": 3,
   "metadata": {},
   "outputs": [
    {
     "data": {
      "image/png": "[encoded data removed]",
      "text/plain": [
       "<Figure size 432x288 with 9 Axes>"
      ]
     },
     "metadata": {
      "needs_background": "light"
     },
     "output_type": "display_data"
    },
    {
     "name": "stdout",
     "output_type": "stream",
     "text": [
      "         pi      ttest          pval\n",
      "0  0.010000  21.182335  1.215477e-02\n",
      "1  0.017783  23.330351  9.415943e-03\n",
      "2  0.031623  27.333059  7.560838e-03\n",
      "3  0.056234  34.240152  2.037380e-03\n",
      "4  0.100000  41.703553  2.846612e-14\n",
      "5  0.177828  44.408592  0.000000e+00\n",
      "6  0.316228  45.647508  0.000000e+00\n",
      "7  0.562341  48.065657  0.000000e+00\n",
      "8  1.000000  54.847994  0.000000e+00\n"
     ]
    }
   ],
   "source": [
    "n = 1000\n",
    "pi = np.exp(np.linspace(np.log(0.01),0,9))\n",
    "fig, ax = plt.subplots(3,3)\n",
    "ax = ax.reshape(-1)\n",
    "ttest = np.empty(0)\n",
    "pval = np.empty(0)\n",
    "for i, coef in enumerate(pi): \n",
    "    monte_carlo_outputs = np.array([utils.do_two_sls(n, beta, coef) for i in range(1000)])\n",
    "    b = monte_carlo_outputs[:,0]\n",
    "    mean_hyp_vals = monte_carlo_outputs[:,1:].mean(0)\n",
    "    \n",
    "    monte_carlo_5 = np.percentile(b, 5)\n",
    "    monte_carlo_95 = np.percentile(b, 95)\n",
    "\n",
    "    # get ttest and pval of single draw for each pi\n",
    "    x, y, Z = utils.dgp(n, beta, coef)\n",
    "    model = Two_SLS(y, x, Z)\n",
    "    ttest = np.append(ttest, mean_hyp_vals[0])\n",
    "    pval = np.append(pval, mean_hyp_vals[1])\n",
    "\n",
    "    ax[i].hist(b)\n",
    "    ax[i].set_title(f\"Pi = {np.round(coef, 2)}\")\n",
    "    ax[i].axvline(x=1, color='r', label='True beta')\n",
    "    ax[i].axvline(x = monte_carlo_5, color = 'b')\n",
    "    ax[i].axvline(x = monte_carlo_95, color = 'b')\n",
    "fig.tight_layout()\n",
    "plt.show()\n",
    "\n",
    "\n",
    "print(pd.DataFrame({'pi': pi, 'ttest': ttest, 'pval': pval}))"
   ]
  },
  {
   "cell_type": "markdown",
   "metadata": {},
   "source": [
    "##### 4.3.a"
   ]
  },
  {
   "cell_type": "code",
   "execution_count": 4,
   "metadata": {},
   "outputs": [
    {
     "data": {
      "image/png": "[encoded data removed]",
      "text/plain": [
       "<Figure size 432x288 with 9 Axes>"
      ]
     },
     "metadata": {
      "needs_background": "light"
     },
     "output_type": "display_data"
    },
    {
     "name": "stdout",
     "output_type": "stream",
     "text": [
      "[0.12677306 0.10844733 0.11223663 0.10817343 0.10526297 0.11278287\n",
      " 0.1083301  0.10549542 0.10441805]\n",
      "[1.0486853  0.76591913 0.81990164 0.76524236 0.73258437 0.83550568\n",
      " 0.77731776 0.74914067 0.74624423]\n"
     ]
    }
   ],
   "source": [
    "### FIGURE 1\n",
    "n = 1000\n",
    "beta = 1\n",
    "N = 9\n",
    "L = range(1, N+1)\n",
    "\n",
    "fig, ax = plt.subplots(3, 3)\n",
    "ax = ax.reshape(-1)\n",
    "coverage = np.empty(0)\n",
    "mse      = np.zeros((N,))\n",
    "for l in L: \n",
    "    i = l-1\n",
    "    pi = np.array([(.5)**(x) for x in range(l)])\n",
    "    monte_carlo_outputs = np.array([utils.do_two_sls(n, beta, pi) for i in range(1000)])\n",
    "    b = monte_carlo_outputs[:,0]\n",
    "    mse[i] = ((b-beta)**2).sum()\n",
    "    coverage = np.append(coverage, utils.calc_coverage(b))\n",
    "    monte_carlo_5 = np.percentile(b, 5)\n",
    "    monte_carlo_95 = np.percentile(b, 95)\n",
    "\n",
    "    ax[i].hist(b)\n",
    "    ax[i].set_title(f\"L = {l}\")\n",
    "    ax[i].axvline(x=1, color='r', label='True beta')\n",
    "    ax[i].axvline(x = monte_carlo_5, color = 'b')\n",
    "    ax[i].axvline(x = monte_carlo_95, color = 'b')\n",
    "    fig.tight_layout()\n",
    "plt.show()\n",
    "\n",
    "print(coverage)\n",
    "print(mse)"
   ]
  },
  {
   "cell_type": "code",
   "execution_count": null,
   "metadata": {},
   "outputs": [],
   "source": [
    "### FIGURE 2\n",
    "n_list= [50]\n",
    "beta  = 1\n",
    "N     = 20\n",
    "L     = range(1, N+1)\n",
    "K     = 10000\n",
    "\n",
    "rmse, mean_se, coverage = utils.run_many_instruments_monte_carlo(n_list, beta, N, L, K)\n",
    "\n",
    "fig, ax = plt.subplots(3, 1, figsize=(10, 5))\n",
    "\n",
    "ax[0].scatter(L, rmse[:,0])\n",
    "ax[1].scatter(L, coverage[:,0])\n",
    "ax[2].scatter(L, mean_se[:,0])\n",
    "ax[0].set_ylabel(\"RMSE of sample bias\")\n",
    "ax[1].set_ylabel(\"Coverage\")\n",
    "ax[2].set_ylabel(\"Mean Std. Err.\")\n",
    "ax[2].set_xlabel(\"Number of instruments\")\n",
    "fig.tight_layout()\n",
    "plt.show()"
   ]
  },
  {
   "cell_type": "code",
   "execution_count": null,
   "metadata": {},
   "outputs": [],
   "source": [
    "### FIGURE 3\n",
    "import time\n",
    "n_list= [50, 100, 500]\n",
    "beta  = 1\n",
    "N     = 10\n",
    "L     = range(1, N+1)\n",
    "K     = 10000\n",
    "\n",
    "rmse, mean_se, coverage = utils.run_many_instruments_monte_carlo(n_list, beta, N, L, K)\n",
    "\n",
    "fig, ax = plt.subplots(3, 3, figsize=(10, 5))\n",
    "ax = ax.reshape(-1)\n",
    "\n",
    "ax[0].scatter(L, rmse[:,0])\n",
    "ax[1].scatter(L, rmse[:,1])\n",
    "ax[2].scatter(L, rmse[:,2])\n",
    "\n",
    "ax[3].scatter(L, coverage[:,0])\n",
    "ax[4].scatter(L, coverage[:,1])\n",
    "ax[5].scatter(L, coverage[:,2])\n",
    "\n",
    "ax[6].scatter(L, mean_se[:,0])\n",
    "ax[7].scatter(L, mean_se[:,1])\n",
    "ax[8].scatter(L, mean_se[:,2])\n",
    "\n",
    "ax[0].set_ylabel(\"RMSE of sample bias\")\n",
    "ax[3].set_ylabel(\"Coverage\")\n",
    "ax[6].set_ylabel(\"Mean Std. Err.\")\n",
    "\n",
    "ax[0].set_title(\"10k sim, n={}\".format(n_list[0]))\n",
    "ax[1].set_title(\"10k sim, n={}\".format(n_list[1]))\n",
    "ax[2].set_title(\"10k sim, n={}\".format(n_list[2]))\n",
    "\n",
    "ax[6].set_xlabel(\"Number of instruments\")\n",
    "ax[7].set_xlabel(\"Number of instruments\")\n",
    "ax[8].set_xlabel(\"Number of instruments\")\n",
    "fig.tight_layout()\n",
    "plt.show()"
   ]
  },
  {
   "cell_type": "code",
   "execution_count": null,
   "metadata": {},
   "outputs": [],
   "source": []
  }
 ],
 "metadata": {
  "kernelspec": {
   "display_name": "Python 3",
   "language": "python",
   "name": "python3"
  },
  "language_info": {
   "codemirror_mode": {
    "name": "ipython",
    "version": 3
   },
   "file_extension": ".py",
   "mimetype": "text/x-python",
   "name": "python",
   "nbconvert_exporter": "python",
   "pygments_lexer": "ipython3",
   "version": "3.9.1"
  }
 },
 "nbformat": 4,
 "nbformat_minor": 2
}
