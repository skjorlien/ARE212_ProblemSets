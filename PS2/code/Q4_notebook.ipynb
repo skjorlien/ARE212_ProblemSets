{
 "cells": [
  {
   "cell_type": "code",
   "execution_count": 1,
   "metadata": {},
   "outputs": [],
   "source": [
    "import functions as utils\n",
    "from classes import Two_SLS\n",
    "import numpy as np \n",
    "import matplotlib.pyplot as plt\n",
    "from scipy.stats import t\n",
    "import pandas as pd\n",
    "import time"
   ]
  },
  {
   "cell_type": "markdown",
   "metadata": {},
   "source": [
    "### 4. Weak Instruments\n"
   ]
  },
  {
   "cell_type": "markdown",
   "metadata": {},
   "source": [
    "##### 4.2.b "
   ]
  },
  {
   "cell_type": "code",
   "execution_count": 2,
   "metadata": {},
   "outputs": [
    {
     "data": {
      "image/png": "[encoded data removed]",
      "text/plain": [
       "<Figure size 432x288 with 1 Axes>"
      ]
     },
     "metadata": {
      "needs_background": "light"
     },
     "output_type": "display_data"
    },
    {
     "name": "stdout",
     "output_type": "stream",
     "text": [
      "t-test: \n",
      " 54.872802084027896\n",
      "\n",
      "p-value of t-test:\n",
      " 0.0\n",
      "\n",
      "2SLS 95% CI: \n",
      " (0.963815029907777, 1.0353817880981704)\n",
      "\n",
      "Monte Carlo 95% CI: \n",
      " (0.9480480672378133, 1.0541497287602062)\n"
     ]
    }
   ],
   "source": [
    "n = 1000\n",
    "beta = 1 \n",
    "pi = 1\n",
    "\n",
    "monte_carlo_outputs = np.array([utils.do_two_sls(n, beta, pi) for i in range(1000)])\n",
    "b = monte_carlo_outputs[:,0]\n",
    "mean_hyp_vals = monte_carlo_outputs[:,1:].mean(0)\n",
    "\n",
    "monte_carlo_5 = np.percentile(b, 5)\n",
    "monte_carlo_95 = np.percentile(b, 95)\n",
    "fig, ax = plt.subplots(1, 1)\n",
    "ax.hist(b)\n",
    "ax.set_title(f\"Montecarlo simulations, N = {n}\")\n",
    "ax.axvline(x = monte_carlo_5, color = 'b')\n",
    "ax.axvline(x = monte_carlo_95, color = 'b')\n",
    "ax.set_title(f\"Montecarlo simulations, N = {n}\")\n",
    "plt.show()\n",
    "\n",
    "\n",
    "print(f\"t-test: \\n {mean_hyp_vals[0]}\\n\")\n",
    "print(f\"p-value of t-test:\\n {mean_hyp_vals[1]}\\n\")\n",
    "print(f\"2SLS 95% CI: \\n {(mean_hyp_vals[2],mean_hyp_vals[3])}\\n\")\n",
    "print(f\"Monte Carlo 95% CI: \\n {(monte_carlo_5, monte_carlo_95)}\")"
   ]
  },
  {
   "cell_type": "markdown",
   "metadata": {},
   "source": [
    "##### 4.2.c"
   ]
  },
  {
   "cell_type": "code",
   "execution_count": 3,
   "metadata": {},
   "outputs": [
    {
     "data": {
      "image/png": "[encoded data removed]",
      "text/plain": [
       "<Figure size 432x288 with 9 Axes>"
      ]
     },
     "metadata": {
      "needs_background": "light"
     },
     "output_type": "display_data"
    },
    {
     "name": "stdout",
     "output_type": "stream",
     "text": [
      "         pi      ttest      pval\n",
      "0  0.010000  21.349064  0.009385\n",
      "1  0.017783  21.739039  0.009110\n",
      "2  0.031623  25.681722  0.006762\n",
      "3  0.056234  34.467368  0.001147\n",
      "4  0.100000  41.213945  0.000022\n",
      "5  0.177828  44.378646  0.000000\n",
      "6  0.316228  45.706929  0.000000\n",
      "7  0.562341  48.131215  0.000000\n",
      "8  1.000000  54.806362  0.000000\n"
     ]
    }
   ],
   "source": [
    "n = 1000\n",
    "pi = np.exp(np.linspace(np.log(0.01),0,9))\n",
    "fig, ax = plt.subplots(3,3)\n",
    "ax = ax.reshape(-1)\n",
    "ttest = np.empty(0)\n",
    "pval = np.empty(0)\n",
    "for i, coef in enumerate(pi): \n",
    "    monte_carlo_outputs = np.array([utils.do_two_sls(n, beta, coef) for i in range(1000)])\n",
    "    b = monte_carlo_outputs[:,0]\n",
    "    mean_hyp_vals = monte_carlo_outputs[:,1:].mean(0)\n",
    "    \n",
    "    monte_carlo_5 = np.percentile(b, 5)\n",
    "    monte_carlo_95 = np.percentile(b, 95)\n",
    "\n",
    "    # get ttest and pval of single draw for each pi\n",
    "    x, y, Z = utils.dgp(n, beta, coef)\n",
    "    model = Two_SLS(y, x, Z)\n",
    "    ttest = np.append(ttest, mean_hyp_vals[0])\n",
    "    pval = np.append(pval, mean_hyp_vals[1])\n",
    "\n",
    "    ax[i].hist(b)\n",
    "    ax[i].set_title(f\"Pi = {np.round(coef, 2)}\")\n",
    "    ax[i].axvline(x=1, color='r', label='True beta')\n",
    "    ax[i].axvline(x = monte_carlo_5, color = 'b')\n",
    "    ax[i].axvline(x = monte_carlo_95, color = 'b')\n",
    "fig.tight_layout()\n",
    "plt.show()\n",
    "\n",
    "\n",
    "print(pd.DataFrame({'pi': pi, 'ttest': ttest, 'pval': pval}))"
   ]
  },
  {
   "cell_type": "markdown",
   "metadata": {},
   "source": [
    "##### 4.3.a"
   ]
  },
  {
   "cell_type": "code",
   "execution_count": 4,
   "metadata": {},
   "outputs": [
    {
     "data": {
      "image/png": "[encoded data removed]",
      "text/plain": [
       "<Figure size 432x288 with 9 Axes>"
      ]
     },
     "metadata": {
      "needs_background": "light"
     },
     "output_type": "display_data"
    },
    {
     "name": "stdout",
     "output_type": "stream",
     "text": [
      "[0.12536969 0.11109781 0.10981904 0.10659404 0.10346494 0.10667192\n",
      " 0.10338222 0.10388755 0.10900212]\n",
      "[1.02295978 0.80396074 0.7862312  0.74021844 0.70016988 0.75819981\n",
      " 0.71096106 0.71748046 0.80455018]\n"
     ]
    }
   ],
   "source": [
    "### FIGURE 1\n",
    "n = 1000\n",
    "beta = 1\n",
    "N = 9\n",
    "L = range(1, N+1)\n",
    "\n",
    "fig, ax = plt.subplots(3, 3)\n",
    "ax = ax.reshape(-1)\n",
    "coverage = np.empty(0)\n",
    "mse      = np.zeros((N,))\n",
    "for l in L: \n",
    "    i = l-1\n",
    "    pi = np.array([(.5)**(x) for x in range(l)])\n",
    "    monte_carlo_outputs = np.array([utils.do_two_sls(n, beta, pi) for i in range(1000)])\n",
    "    b = monte_carlo_outputs[:,0]\n",
    "    mse[i] = ((b-beta)**2).sum()\n",
    "    coverage = np.append(coverage, utils.calc_coverage(b))\n",
    "    monte_carlo_5 = np.percentile(b, 5)\n",
    "    monte_carlo_95 = np.percentile(b, 95)\n",
    "\n",
    "    ax[i].hist(b)\n",
    "    ax[i].set_title(f\"L = {l}\")\n",
    "    ax[i].axvline(x=1, color='r', label='True beta')\n",
    "    ax[i].axvline(x = monte_carlo_5, color = 'b')\n",
    "    ax[i].axvline(x = monte_carlo_95, color = 'b')\n",
    "    fig.tight_layout()\n",
    "plt.show()\n",
    "\n",
    "print(coverage)\n",
    "print(mse)"
   ]
  },
  {
   "cell_type": "code",
   "execution_count": 5,
   "metadata": {},
   "outputs": [
    {
     "data": {
      "image/png": "[encoded data removed]",
      "text/plain": [
       "<Figure size 720x360 with 3 Axes>"
      ]
     },
     "metadata": {
      "needs_background": "light"
     },
     "output_type": "display_data"
    }
   ],
   "source": [
    "### FIGURE 2\n",
    "n_list= [50]\n",
    "beta  = 1\n",
    "N     = 20\n",
    "L     = range(1, N+1)\n",
    "K     = 10000\n",
    "\n",
    "rmse, mean_se, coverage = utils.run_many_instruments_monte_carlo(n_list, beta, N, L, K)\n",
    "\n",
    "fig, ax = plt.subplots(3, 1, figsize=(10, 5))\n",
    "\n",
    "ax[0].scatter(L, rmse[:,0])\n",
    "ax[1].scatter(L, coverage[:,0])\n",
    "ax[2].scatter(L, mean_se[:,0])\n",
    "ax[0].set_ylabel(\"RMSE of sample bias\")\n",
    "ax[1].set_ylabel(\"Coverage\")\n",
    "ax[2].set_ylabel(\"Mean Std. Err.\")\n",
    "ax[2].set_xlabel(\"Number of instruments\")\n",
    "fig.tight_layout()\n",
    "plt.show()"
   ]
  },
  {
   "cell_type": "code",
   "execution_count": null,
   "metadata": {},
   "outputs": [],
   "source": [
    "### FIGURE 3\n",
    "import time\n",
    "n_list= [50, 100, 500]\n",
    "beta  = 1\n",
    "N     = 10\n",
    "L     = range(1, N+1)\n",
    "K     = 10000\n",
    "\n",
    "rmse, mean_se, coverage = utils.run_many_instruments_monte_carlo(n_list, beta, N, L, K)\n",
    "\n",
    "fig, ax = plt.subplots(3, 3, figsize=(10, 5))\n",
    "ax = ax.reshape(-1)\n",
    "\n",
    "ax[0].scatter(L, rmse[:,0])\n",
    "ax[1].scatter(L, rmse[:,1])\n",
    "ax[2].scatter(L, rmse[:,2])\n",
    "\n",
    "ax[3].scatter(L, coverage[:,0])\n",
    "ax[4].scatter(L, coverage[:,1])\n",
    "ax[5].scatter(L, coverage[:,2])\n",
    "\n",
    "ax[6].scatter(L, mean_se[:,0])\n",
    "ax[7].scatter(L, mean_se[:,1])\n",
    "ax[8].scatter(L, mean_se[:,2])\n",
    "\n",
    "ax[0].set_ylabel(\"RMSE of sample bias\")\n",
    "ax[3].set_ylabel(\"Coverage\")\n",
    "ax[6].set_ylabel(\"Mean Std. Err.\")\n",
    "\n",
    "ax[0].set_title(\"10k sim, n={}\".format(n_list[0]))\n",
    "ax[1].set_title(\"10k sim, n={}\".format(n_list[1]))\n",
    "ax[2].set_title(\"10k sim, n={}\".format(n_list[2]))\n",
    "\n",
    "ax[6].set_xlabel(\"Number of instruments\")\n",
    "ax[7].set_xlabel(\"Number of instruments\")\n",
    "ax[8].set_xlabel(\"Number of instruments\")\n",
    "fig.tight_layout()\n",
    "plt.show()"
   ]
  },
  {
   "cell_type": "code",
   "execution_count": null,
   "metadata": {},
   "outputs": [],
   "source": []
  }
 ],
 "metadata": {
  "kernelspec": {
   "display_name": "Python 3",
   "language": "python",
   "name": "python3"
  },
  "language_info": {
   "codemirror_mode": {
    "name": "ipython",
    "version": 3
   },
   "file_extension": ".py",
   "mimetype": "text/x-python",
   "name": "python",
   "nbconvert_exporter": "python",
   "pygments_lexer": "ipython3",
   "version": "3.9.1"
  }
 },
 "nbformat": 4,
 "nbformat_minor": 2
}
