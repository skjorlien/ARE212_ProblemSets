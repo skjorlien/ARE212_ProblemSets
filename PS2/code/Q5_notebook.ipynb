{
 "cells": [
  {
   "cell_type": "code",
   "execution_count": null,
   "metadata": {},
   "outputs": [],
   "source": [
    "import functions as utils\n",
    "import numpy as np\n",
    "import matplotlib.pyplot as plt"
   ]
  },
  {
   "cell_type": "code",
   "execution_count": null,
   "metadata": {},
   "outputs": [],
   "source": [
    "n = 1000\n",
    "β = 1 \n",
    "π = 1\n",
    "x, y, Z = utils.dgp(n, β, π)\n",
    "\n",
    "b0 = np.linspace(0.8, 1.2, 100)\n",
    "p = np.array([utils.hansen(x, y, Z, b) for b in b0])\n",
    "\n",
    "fig, ax = plt.subplots() \n",
    "ax.scatter(b0, p)\n",
    "ax.set_xlabel('b0')\n",
    "ax.set_ylabel('p-val')\n"
   ]
  }
 ],
 "metadata": {
  "language_info": {
   "name": "python"
  },
  "orig_nbformat": 4
 },
 "nbformat": 4,
 "nbformat_minor": 2
}
