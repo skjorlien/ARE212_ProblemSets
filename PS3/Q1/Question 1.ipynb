{
 "cells": [
  {
   "cell_type": "code",
   "execution_count": 1,
   "metadata": {},
   "outputs": [],
   "source": [
    "import numpy as np\n",
    "import torch as torch\n",
    "import torchgmm as gmm\n",
    "import dgp\n",
    "from scipy.stats import distributions as iid\n",
    "from numpy.linalg import inv\n",
    "import matplotlib.pyplot as plt\n",
    "import networkx as nx\n"
   ]
  },
  {
   "cell_type": "code",
   "execution_count": 2,
   "metadata": {},
   "outputs": [],
   "source": [
    "if torch.cuda.is_available():\n",
    "    device = torch.device('cuda')\n",
    "else:\n",
    "    device = torch.device('cpu')\n",
    "\n",
    "    \n",
    "t_type = torch.float64\n",
    "gmm_steps = 2\n",
    "dgp_obj = dgp.dgp(1, 10000, t_type, device)\n",
    "dgp_obj_large_n = dgp.dgp(1, 100000, t_type, device)"
   ]
  },
  {
   "cell_type": "markdown",
   "metadata": {},
   "source": [
    "# Part (3)"
   ]
  },
  {
   "cell_type": "markdown",
   "metadata": {},
   "source": [
    "### Part (a)"
   ]
  },
  {
   "cell_type": "code",
   "execution_count": 3,
   "metadata": {},
   "outputs": [
    {
     "name": "stdout",
     "output_type": "stream",
     "text": [
      "GMM-1 loss: 1.716125\n",
      "GMM-2 loss: 1.003800\n",
      "Estimated values:  [5.03054354 9.96644537]\n",
      "True values:  [ 5 10]\n",
      "Optimal weights using estimated beta: \n",
      " tensor([[ 2.4968e-01,  1.7769e-03, -4.9508e-03],\n",
      "        [ 1.7769e-03,  4.9864e-03, -7.1912e-05],\n",
      "        [-4.9508e-03, -7.1912e-05,  1.6405e-04]], dtype=torch.float64)\n",
      "Optimal weights using true beta: \n",
      " tensor([[ 2.4946e-01,  1.9253e-03, -4.9459e-03],\n",
      "        [ 1.9253e-03,  5.0009e-03, -8.6944e-05],\n",
      "        [-4.9459e-03, -8.6944e-05,  1.6405e-04]], dtype=torch.float64)\n"
     ]
    }
   ],
   "source": [
    "# Part (a)\n",
    "beta_true = np.array([5, 10]).reshape(-1,1)\n",
    "data      = dgp_obj.part_a(beta_true[0,0], beta_true[1,0])\n",
    "moment_f  = dgp.moment_functions(\"a\") \n",
    "n_m       = 3\n",
    "b_est, weights = gmm.solve_kstep_GMM(gmm_steps, beta_true*.1, data, n_m, device, t_type, \n",
    "                                     f_m=moment_f)\n",
    "\n",
    "print(\"Estimated values: \", b_est.detach().numpy().flatten())\n",
    "print(\"True values: \", beta_true.flatten())\n",
    "print(\"Optimal weights using estimated beta: \\n\",weights)\n",
    "print(\"Optimal weights using true beta: \\n\",torch.inverse(gmm.Omegahat(beta_true, data, f_m=moment_f)))"
   ]
  },
  {
   "cell_type": "markdown",
   "metadata": {},
   "source": [
    "### Part (b)"
   ]
  },
  {
   "cell_type": "code",
   "execution_count": 4,
   "metadata": {},
   "outputs": [
    {
     "data": {
      "image/png": "[encoded data removed]",
      "text/plain": [
       "<Figure size 432x288 with 1 Axes>"
      ]
     },
     "metadata": {},
     "output_type": "display_data"
    }
   ],
   "source": [
    "## Part b\n",
    "# Note that we are leaving out the constant\n",
    "graph = nx.DiGraph()\n",
    "graph.add_edges_from([(\"X\",\"y\"),(\"u\",\"y\")])\n",
    "nx.draw_networkx(graph, arrows=True, node_size=500, font_size=20)\n",
    "plt.show()"
   ]
  },
  {
   "cell_type": "code",
   "execution_count": 5,
   "metadata": {},
   "outputs": [
    {
     "name": "stdout",
     "output_type": "stream",
     "text": [
      "GMM-1 loss: 0.000000\n",
      "GMM-2 loss: 0.000000\n",
      "Estimated values:  [2.00968445 3.98955834]\n",
      "True values:  [2 4]\n",
      "Optimal weights using estimated beta: \n",
      " tensor([[1.0025, 0.0025],\n",
      "        [0.0025, 1.0158]], dtype=torch.float64)\n",
      "Optimal weights using true beta: \n",
      " tensor([[1.0024, 0.0023],\n",
      "        [0.0023, 1.0152]], dtype=torch.float64)\n"
     ]
    }
   ],
   "source": [
    "# Part (b)\n",
    "beta_true = np.array([2, 4]).reshape(-1,1)\n",
    "data      = dgp_obj.part_b_c(beta_true)\n",
    "moment_f  = dgp.moment_functions(\"b\") \n",
    "n_m       = 2\n",
    "\n",
    "b_est, weights = gmm.solve_kstep_GMM(gmm_steps, beta_true*.1, data, n_m, device, t_type,\n",
    "                                    f_m=moment_f)\n",
    "\n",
    "print(\"Estimated values: \", b_est.detach().numpy().flatten())\n",
    "print(\"True values: \", beta_true.flatten())\n",
    "print(\"Optimal weights using estimated beta: \\n\",weights)\n",
    "print(\"Optimal weights using true beta: \\n\",torch.inverse(gmm.Omegahat(beta_true, data)))"
   ]
  },
  {
   "cell_type": "markdown",
   "metadata": {},
   "source": [
    "### Part (c)"
   ]
  },
  {
   "cell_type": "code",
   "execution_count": 6,
   "metadata": {},
   "outputs": [
    {
     "data": {
      "image/png": "[encoded data removed]",
      "text/plain": [
       "<Figure size 432x288 with 1 Axes>"
      ]
     },
     "metadata": {},
     "output_type": "display_data"
    }
   ],
   "source": [
    "## Part c\n",
    "# Note that we are leaving out the constant\n",
    "graph = nx.DiGraph()\n",
    "graph.add_edges_from([(\"X\",\"y\"),(\"u\",\"y\")])\n",
    "nx.draw_networkx(graph, arrows=True, node_size=500, font_size=20)\n",
    "plt.show()"
   ]
  },
  {
   "cell_type": "code",
   "execution_count": 7,
   "metadata": {},
   "outputs": [
    {
     "name": "stdout",
     "output_type": "stream",
     "text": [
      "GMM-1 loss: 0.000000\n",
      "GMM-2 loss: 0.000000\n",
      "Estimated values:  [2.01677395 3.98191452 2.99239723]\n",
      "True values:  [2 4 3]\n",
      "Optimal weights using estimated beta: \n",
      " tensor([[ 0.3343,  0.0007, -0.0024],\n",
      "        [ 0.0007,  0.3388,  0.0033],\n",
      "        [-0.0024,  0.0033,  0.0551]], dtype=torch.float64)\n",
      "Optimal weights using true beta: \n",
      " tensor([[ 0.3345,  0.0004, -0.0042],\n",
      "        [ 0.0004,  0.3389,  0.0052],\n",
      "        [-0.0042,  0.0052,  0.0551]], dtype=torch.float64)\n"
     ]
    }
   ],
   "source": [
    "# Part (c)\n",
    "beta_true = np.array([2, 4, 3]).reshape(-1,1)\n",
    "data      = dgp_obj.part_b_c(beta_true[:2], s2=beta_true[2]) # introducing some variance\n",
    "moment_f  = dgp.moment_functions(\"c\") \n",
    "n_m       = 3\n",
    "\n",
    "b_est, weights = gmm.solve_kstep_GMM(gmm_steps, beta_true*.1, data, n_m, device, t_type,\n",
    "                                    f_m=moment_f)\n",
    "\n",
    "print(\"Estimated values: \", b_est.detach().numpy().flatten())\n",
    "print(\"True values: \", beta_true.flatten())\n",
    "print(\"Optimal weights using estimated beta: \\n\",weights)\n",
    "print(\"Optimal weights using true beta: \\n\",torch.inverse(gmm.Omegahat(beta_true, data,\n",
    "                                                                      f_m=moment_f)))"
   ]
  },
  {
   "cell_type": "markdown",
   "metadata": {},
   "source": [
    "### Part (d)"
   ]
  },
  {
   "cell_type": "code",
   "execution_count": 8,
   "metadata": {},
   "outputs": [
    {
     "data": {
      "image/png": "[encoded data removed]",
      "text/plain": [
       "<Figure size 432x288 with 1 Axes>"
      ]
     },
     "metadata": {},
     "output_type": "display_data"
    }
   ],
   "source": [
    "## Part d\n",
    "# Note that we are leaving out the constant\n",
    "graph = nx.DiGraph()\n",
    "graph.add_edges_from([(\"X\",\"y\"),(\"u\",\"y\")])\n",
    "nx.draw_networkx(graph, arrows=True, node_size=500, font_size=20)\n",
    "plt.show()"
   ]
  },
  {
   "cell_type": "code",
   "execution_count": 9,
   "metadata": {},
   "outputs": [
    {
     "name": "stdout",
     "output_type": "stream",
     "text": [
      "GMM-1 loss: 0.000000\n",
      "GMM-2 loss: 0.000000\n",
      "Estimated values:  [1.88739056 3.65558888 3.0093874 ]\n",
      "True values:  [2 4 3]\n",
      "Optimal weights using estimated beta: \n",
      " tensor([[ 2.0453e-01, -7.5101e-02, -1.4244e-04],\n",
      "        [-7.5101e-02,  2.9742e-02,  7.4557e-05],\n",
      "        [-1.4244e-04,  7.4557e-05,  1.4982e-06]], dtype=torch.float64)\n",
      "Optimal weights using true beta: \n",
      " tensor([[ 2.1008e-01, -7.7358e-02, -1.5098e-04],\n",
      "        [-7.7358e-02,  3.0698e-02,  7.9756e-05],\n",
      "        [-1.5098e-04,  7.9756e-05,  1.5456e-06]], dtype=torch.float64)\n"
     ]
    }
   ],
   "source": [
    "beta_true = np.array([2, 4, 3]).reshape(-1,1)\n",
    "data      = dgp_obj.part_d(beta_true[:2], s2=beta_true[2]) # introducing some variance\n",
    "moment_f  = dgp.moment_functions(\"d\") \n",
    "n_m       = 3\n",
    "\n",
    "b_est, weights = gmm.solve_kstep_GMM(gmm_steps, beta_true*.1, data, n_m, device, t_type,\n",
    "                                    f_m=moment_f)\n",
    "\n",
    "print(\"Estimated values: \", b_est.detach().numpy().flatten())\n",
    "print(\"True values: \", beta_true.flatten())\n",
    "print(\"Optimal weights using estimated beta: \\n\",weights)\n",
    "print(\"Optimal weights using true beta: \\n\",torch.inverse(gmm.Omegahat(beta_true, data,\n",
    "                                                            f_m=moment_f)))"
   ]
  },
  {
   "cell_type": "code",
   "execution_count": 10,
   "metadata": {},
   "outputs": [
    {
     "data": {
      "image/png": "[encoded data removed]",
      "text/plain": [
       "<Figure size 432x288 with 1 Axes>"
      ]
     },
     "metadata": {
      "needs_background": "light"
     },
     "output_type": "display_data"
    }
   ],
   "source": [
    "plt.scatter(data[1][:,1],data[0], s=10)\n",
    "plt.xlabel(\"X\")\n",
    "plt.ylabel(\"y\")\n",
    "plt.title(\"Heteroskedastic data\")\n",
    "plt.show()"
   ]
  },
  {
   "cell_type": "markdown",
   "metadata": {},
   "source": [
    "### Part (e)"
   ]
  },
  {
   "cell_type": "code",
   "execution_count": 11,
   "metadata": {},
   "outputs": [
    {
     "data": {
      "image/png": "[encoded data removed]",
      "text/plain": [
       "<Figure size 432x288 with 1 Axes>"
      ]
     },
     "metadata": {},
     "output_type": "display_data"
    }
   ],
   "source": [
    "# Note that we are leaving out the constant\n",
    "graph = nx.DiGraph()\n",
    "graph.add_edges_from([(\"X\",\"y\"),(\"u\",\"y\"),(\"u\",\"X\"), (\"Z\",\"X\")])\n",
    "nx.draw_networkx(graph, arrows=True, node_size=500, font_size=20)\n",
    "plt.show()"
   ]
  },
  {
   "cell_type": "code",
   "execution_count": 12,
   "metadata": {},
   "outputs": [
    {
     "name": "stdout",
     "output_type": "stream",
     "text": [
      "GMM-1 loss: 0.370295\n",
      "GMM-2 loss: 0.341103\n",
      "Estimated values:  [1.98582746 4.05223864]\n",
      "True values:  [2 4]\n",
      "Optimal weights using estimated beta: \n",
      " tensor([[ 0.2092, -0.0489, -0.1469],\n",
      "        [-0.0489,  0.4047,  0.0485],\n",
      "        [-0.1469,  0.0485,  0.6030]], dtype=torch.float64)\n",
      "Optimal weights using true beta: \n",
      " tensor([[ 0.2037, -0.0479, -0.1433],\n",
      "        [-0.0479,  0.3938,  0.0471],\n",
      "        [-0.1433,  0.0471,  0.5879]], dtype=torch.float64)\n"
     ]
    }
   ],
   "source": [
    "beta_true = np.array([2, 4]).reshape(-1,1)\n",
    "data, covXZu = dgp_obj.part_e(beta_true) # introducing some variance\n",
    "moment_f  = dgp.moment_functions(\"e\") \n",
    "n_m       = 3\n",
    "\n",
    "b_est, weights = gmm.solve_kstep_GMM(gmm_steps, beta_true*.1, data, n_m, device, t_type,\n",
    "                                    f_m=moment_f)\n",
    "\n",
    "print(\"Estimated values: \", b_est.detach().numpy().flatten())\n",
    "print(\"True values: \", beta_true.flatten())\n",
    "print(\"Optimal weights using estimated beta: \\n\",weights)\n",
    "print(\"Optimal weights using true beta: \\n\",torch.inverse(gmm.Omegahat(beta_true, data,\n",
    "                                                                      f_m=moment_f)))"
   ]
  },
  {
   "cell_type": "markdown",
   "metadata": {},
   "source": [
    "### Part (f)"
   ]
  },
  {
   "cell_type": "code",
   "execution_count": 13,
   "metadata": {},
   "outputs": [
    {
     "data": {
      "image/png": "[encoded data removed]",
      "text/plain": [
       "<Figure size 432x288 with 1 Axes>"
      ]
     },
     "metadata": {},
     "output_type": "display_data"
    }
   ],
   "source": [
    "# Note that we are leaving out the constant\n",
    "graph = nx.DiGraph()\n",
    "graph.add_edges_from([(\"X\",\"y\"),(\"u\",\"y\"),(\"u\",\"X\"), (\"Z\",\"X\")])\n",
    "nx.draw_networkx(graph, arrows=True, node_size=500, font_size=20)\n",
    "plt.show()"
   ]
  },
  {
   "cell_type": "code",
   "execution_count": 14,
   "metadata": {},
   "outputs": [
    {
     "name": "stdout",
     "output_type": "stream",
     "text": [
      "GMM-1 loss: 0.365664\n",
      "GMM-2 loss: 0.339619\n",
      "Estimated values:  [1.99999982 4.00000005]\n",
      "True values:  [2 4]\n",
      "Optimal weights using estimated beta: \n",
      " tensor([[ 0.1157, -0.1033, -0.1260],\n",
      "        [-0.1033,  0.3532,  0.0569],\n",
      "        [-0.1260,  0.0569,  0.5774]], dtype=torch.float64)\n",
      "Optimal weights using true beta: \n",
      " tensor([[ 0.2037, -0.0479, -0.1433],\n",
      "        [-0.0479,  0.3938,  0.0471],\n",
      "        [-0.1433,  0.0471,  0.5879]], dtype=torch.float64)\n"
     ]
    }
   ],
   "source": [
    "beta_true = np.array([2, 4]).reshape(-1,1)\n",
    "data, covXZu = dgp_obj.part_f(beta_true, f=lambda x: 2*torch.exp(x)) \n",
    "moment_f  = dgp.moment_functions(\"f\") \n",
    "n_m       = 3\n",
    "\n",
    "b_est, weights = gmm.solve_kstep_GMM(gmm_steps, beta_true*.1, data, n_m, device, t_type,\n",
    "                                    f_m=moment_f)\n",
    "\n",
    "print(\"Estimated values: \", b_est.detach().numpy().flatten())\n",
    "print(\"True values: \", beta_true.flatten())\n",
    "print(\"Optimal weights using estimated beta: \\n\",weights)\n",
    "print(\"Optimal weights using true beta: \\n\",torch.inverse(gmm.Omegahat(beta_true, data,\n",
    "                                                                      f_m=moment_f)))"
   ]
  },
  {
   "cell_type": "markdown",
   "metadata": {},
   "source": [
    "### Part (g)"
   ]
  },
  {
   "cell_type": "code",
   "execution_count": 15,
   "metadata": {},
   "outputs": [
    {
     "data": {
      "image/png": "[encoded data removed]",
      "text/plain": [
       "<Figure size 432x288 with 1 Axes>"
      ]
     },
     "metadata": {},
     "output_type": "display_data"
    }
   ],
   "source": [
    "# Note that we are leaving out the constant\n",
    "graph = nx.DiGraph()\n",
    "graph.add_edges_from([(\"X\",\"y\"),(\"u\",\"y\"),(\"u\",\"X\"), (\"Z\",\"X\")])\n",
    "nx.draw_networkx(graph, arrows=True, node_size=500, font_size=20)\n",
    "plt.show()"
   ]
  },
  {
   "cell_type": "code",
   "execution_count": 16,
   "metadata": {},
   "outputs": [
    {
     "name": "stdout",
     "output_type": "stream",
     "text": [
      "GMM-1 loss: 0.466917\n",
      "GMM-2 loss: 0.466917\n",
      "Estimated values:  [1.97782189 4.00745575]\n",
      "True values:  [2 4]\n",
      "Optimal weights using estimated beta: \n",
      " tensor([[ 0.2075, -0.0491, -0.1387],\n",
      "        [-0.0491,  0.4026,  0.0513],\n",
      "        [-0.1387,  0.0513,  0.5899]], dtype=torch.float64)\n",
      "Optimal weights using true beta: \n",
      " tensor([[ 0.2037, -0.0479, -0.1433],\n",
      "        [-0.0479,  0.3938,  0.0471],\n",
      "        [-0.1433,  0.0471,  0.5879]], dtype=torch.float64)\n"
     ]
    }
   ],
   "source": [
    "beta_true = np.array([2, 4]).reshape(-1,1)\n",
    "data, covXZu = dgp_obj.part_g(beta_true, f=lambda x, b: x**2 @ b**2) \n",
    "moment_f  = dgp.moment_functions(\"g\") \n",
    "n_m       = 3\n",
    "\n",
    "b_est, weights = gmm.solve_kstep_GMM(gmm_steps, beta_true*.1, data, n_m, device, t_type,\n",
    "                                    f_m=moment_f)\n",
    "\n",
    "print(\"Estimated values: \", b_est.detach().numpy().flatten())\n",
    "print(\"True values: \", beta_true.flatten())\n",
    "print(\"Optimal weights using estimated beta: \\n\",weights)\n",
    "print(\"Optimal weights using true beta: \\n\",torch.inverse(gmm.Omegahat(beta_true, data,\n",
    "                                                                      f_m=moment_f)))"
   ]
  },
  {
   "cell_type": "markdown",
   "metadata": {},
   "source": [
    "### Part (h)"
   ]
  },
  {
   "cell_type": "code",
   "execution_count": 17,
   "metadata": {},
   "outputs": [],
   "source": [
    "??"
   ]
  },
  {
   "cell_type": "markdown",
   "metadata": {},
   "source": [
    "# Part (4)"
   ]
  },
  {
   "cell_type": "code",
   "execution_count": 18,
   "metadata": {},
   "outputs": [],
   "source": [
    "gmm_steps = 2\n",
    "\n",
    "n_draws = 1000\n",
    "n_trials = 1000\n",
    "b_est_list = np.zeros((n_trials, 3))\n",
    "\n",
    "for i in range(n_trials):\n",
    "    dgp_obj = dgp.dgp(1+i, n_draws, t_type, device)\n",
    "\n",
    "    beta_true = np.array([2, 4, 3]).reshape(-1,1)\n",
    "    data      = dgp_obj.part_d(beta_true[:2], s2=beta_true[2]) # introducing some variance\n",
    "    moment_f  = dgp.moment_functions(\"d\") \n",
    "    n_m       = 3\n",
    "\n",
    "    b_est, weights = gmm.solve_kstep_GMM(gmm_steps, beta_true*.1, data, n_m, device, t_type,\n",
    "                                        f_m=moment_f, final_verbose=False)\n",
    "    \n",
    "    b_est_list[i,:] = b_est.flatten()\n"
   ]
  },
  {
   "cell_type": "code",
   "execution_count": 19,
   "metadata": {},
   "outputs": [
    {
     "data": {
      "image/png": "[encoded data removed]",
      "text/plain": [
       "<Figure size 720x360 with 3 Axes>"
      ]
     },
     "metadata": {
      "needs_background": "light"
     },
     "output_type": "display_data"
    }
   ],
   "source": [
    "fig, ax = plt.subplots(1, 3, figsize=(10, 5))\n",
    "\n",
    "ax[0].hist(b_est_list[:,0])\n",
    "ax[0].axvline(x=beta_true[0], color='r')\n",
    "ax[1].hist(b_est_list[:,1])\n",
    "ax[1].axvline(x=beta_true[1], color='r')\n",
    "ax[2].hist(b_est_list[:,2])\n",
    "ax[2].axvline(x=beta_true[2], color='r')\n",
    "ax[0].set_xlabel(\"Intersect estimates\")\n",
    "ax[1].set_xlabel(\"Slope estimates\")\n",
    "ax[2].set_xlabel(\"Variance estimates\")\n",
    "fig.tight_layout()\n",
    "plt.show()"
   ]
  },
  {
   "cell_type": "code",
   "execution_count": null,
   "metadata": {},
   "outputs": [],
   "source": []
  }
 ],
 "metadata": {
  "kernelspec": {
   "display_name": "Python 3",
   "language": "python",
   "name": "python3"
  },
  "language_info": {
   "codemirror_mode": {
    "name": "ipython",
    "version": 3
   },
   "file_extension": ".py",
   "mimetype": "text/x-python",
   "name": "python",
   "nbconvert_exporter": "python",
   "pygments_lexer": "ipython3",
   "version": "3.9.1"
  }
 },
 "nbformat": 4,
 "nbformat_minor": 2
}
